{
 "cells": [
  {
   "cell_type": "code",
   "execution_count": null,
   "id": "d44d413c",
   "metadata": {},
   "outputs": [],
   "source": [
    "from ultralytics import YOLO\n",
    "import os\n",
    "\n",
    "# Load a model\n",
    "model = YOLO(\"yolo11n-pose.pt\")  # load an official model\n",
    "\n",
    "# Predict with the model\n",
    "results = model.track(\"Input\\MarchingVideoToTestHumanPose.mp4\")  # predict on an image"
   ]
  },
  {
   "cell_type": "markdown",
   "id": "44ddd24f",
   "metadata": {},
   "source": [
    "Keypoint indexes  \n",
    "1. Nose  \n",
    "2. Left Eye  \n",
    "3. Right Eye  \n",
    "4. Left Ear  \n",
    "5. Right Ear  \n",
    "6. Left Shoulder  \n",
    "7. Right Shoulder  \n",
    "8. Left Elbow  \n",
    "9. Right Elbow  \n",
    "10. Left Wrist  \n",
    "11. Right Wrist  \n",
    "12. Left Hip  \n",
    "13. Right Hip  \n",
    "14. Left Knee  \n",
    "15. Right Knee  \n",
    "16. Left Ankle  \n",
    "17. Right Ankle  "
   ]
  },
  {
   "cell_type": "code",
   "execution_count": null,
   "id": "c328412c",
   "metadata": {},
   "outputs": [],
   "source": [
    "import matplotlib.pyplot as plt\n",
    "\n",
    "frameNum = 0\n",
    "frames = []\n",
    "rightAnkleYPerFrame = []\n",
    "\n",
    "\n",
    "# Access the results\n",
    "for result in results:\n",
    "    frames.append(frameNum)\n",
    "    # xy = result.keypoints.xy # x and y coordinates\n",
    "    # print(xy)\n",
    "    personIndex = 0\n",
    "    for personNumber in result:\n",
    "        for i in range(12,17):\n",
    "            xyn = result.keypoints.xyn[personIndex][i]  # normalized\n",
    "\n",
    "            if(i == 11):\n",
    "                print(\"Left Hip\", xyn, \"frame: \"+ str(frameNum) + \" Person Number: \" + str(personIndex))\n",
    "            if(i == 12):\n",
    "                print(\"Right Hip\", xyn, \"frame: \"+ str(frameNum) + \" Person Number: \" + str(personIndex))\n",
    "            if(i == 13):\n",
    "                print(\"Left Knee\", xyn, \"frame: \"+ str(frameNum) + \" Person Number: \" + str(personIndex))\n",
    "            if(i == 14):\n",
    "                print(\"Right Knee\", xyn, \"frame: \"+ str(frameNum) + \" Person Number: \" + str(personIndex))\n",
    "            if(i == 15):\n",
    "                print(\"Left Ankle\", xyn, \"frame: \"+ str(frameNum) + \" Person Number: \" + str(personIndex))\n",
    "            if(i == 16):\n",
    "                print(\"Right Ankle\", xyn, \"frame: \"+ str(frameNum) + \" Person Number: \" + str(personIndex))\n",
    "                # If statement which makes sure the data added is for the right personindex\n",
    "                if (personIndex == 0):\n",
    "                    rightAnkleYPerFrame.append((float(xyn[1])))\n",
    "\n",
    "        personIndex = personIndex + 1\n",
    "\n",
    "    frameNum = frameNum + 1\n",
    "    # kpts = result.keypoints.data  # x, y, visibility (if available)\n",
    "    # print(kpts)\n",
    "print(rightAnkleYPerFrame)    \n",
    "print(frames)\n",
    "\n",
    "print(len(rightAnkleYPerFrame))\n",
    "print(len(frames))\n",
    "\n",
    "# plt.plot(frames, rightAnkleYPerFrame)\n",
    "# plt.scatter()"
   ]
  },
  {
   "cell_type": "code",
   "execution_count": null,
   "id": "1fcd9c81",
   "metadata": {},
   "outputs": [],
   "source": [
    "!git config filter.strip-notebook-output.clean 'jupyter nbconvert --ClearOutputPreprocessor.enabled=True --to=notebook --stdin --stdout --log-level=ERROR'"
   ]
  }
 ],
 "metadata": {
  "kernelspec": {
   "display_name": ".venv",
   "language": "python",
   "name": "python3"
  },
  "language_info": {
   "codemirror_mode": {
    "name": "ipython",
    "version": 3
   },
   "file_extension": ".py",
   "mimetype": "text/x-python",
   "name": "python",
   "nbconvert_exporter": "python",
   "pygments_lexer": "ipython3",
   "version": "3.9.5"
  }
 },
 "nbformat": 4,
 "nbformat_minor": 5
}
