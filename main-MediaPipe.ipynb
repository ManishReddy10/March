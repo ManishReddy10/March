{
 "cells": [
  {
   "cell_type": "code",
   "execution_count": null,
   "id": "7166e445",
   "metadata": {},
   "outputs": [],
   "source": [
    "! pip install mediapipe"
   ]
  },
  {
   "cell_type": "code",
   "execution_count": 4,
   "id": "2af4d2c8",
   "metadata": {},
   "outputs": [],
   "source": [
    "import cv2 #to read and process images\n",
    "import matplotlib.pyplot as plt #to show resultant images \n",
    "import mediapipe as mp\n",
    "\n",
    "# Initializing mediapipe pose class.\n",
    "mp_pose = mp.solutions.pose\n",
    "# Setting up the Pose model for images.\n",
    "pose_img = mp_pose.Pose(static_image_mode=True, min_detection_confidence=0.5, model_complexity=1)\n",
    "# Setting up the Pose model for videos.\n",
    "pose_video = mp_pose.Pose(static_image_mode=False, min_detection_confidence=0.5, \n",
    "                          min_tracking_confidence=0.5, model_complexity=1)\n",
    "\n",
    "# Initializing mediapipe drawing class to draw landmarks on specified image.\n",
    "mp_drawing = mp.solutions.drawing_utils"
   ]
  },
  {
   "cell_type": "code",
   "execution_count": null,
   "id": "7b48a0d8",
   "metadata": {},
   "outputs": [],
   "source": [
    "import math\n",
    "# Calculate the angle between three points\n",
    "def calcul_angle(point1, point2, point3):\n",
    "    x1, y1, _ = point1\n",
    "    x2, y2, _ = point2\n",
    "    x3, y3, _ = point3\n",
    "    angle = math.degrees(math.atan2(y3 - y2, x3 - x2) - math.atan2(y1 - y2, x1 - x2))\n",
    "    return angle"
   ]
  }
 ],
 "metadata": {
  "kernelspec": {
   "display_name": ".venv",
   "language": "python",
   "name": "python3"
  },
  "language_info": {
   "codemirror_mode": {
    "name": "ipython",
    "version": 3
   },
   "file_extension": ".py",
   "mimetype": "text/x-python",
   "name": "python",
   "nbconvert_exporter": "python",
   "pygments_lexer": "ipython3",
   "version": "3.9.5"
  }
 },
 "nbformat": 4,
 "nbformat_minor": 5
}
